{
 "cells": [
  {
   "cell_type": "code",
   "execution_count": 43,
   "metadata": {
    "collapsed": false
   },
   "outputs": [
    {
     "name": "stdout",
     "output_type": "stream",
     "text": [
      "인텔\tNNP,*,T,인텔,*,*,*,*\n",
      "인텔\tNNP,*,T,인텔,*,*,*,*\n",
      "코어\tNNG,*,F,코어,*,*,*,*\n",
      "i\tSL,*,*,*,*,*,*,*\n",
      "7\tSN,*,*,*,*,*,*,*\n",
      "-\tSY,*,*,*,*,*,*,*\n",
      "4\tSN,*,*,*,*,*,*,*\n",
      "세대\tNNG,*,F,세대,*,*,*,*\n",
      "4770\tSN,*,*,*,*,*,*,*\n",
      "k\tSL,*,*,*,*,*,*,*\n",
      "(\tSSO,*,*,*,*,*,*,*\n",
      "하스\tNNP,인명,F,하스,*,*,*,*\n",
      "웰\tNNP,인명,T,웰,*,*,*,*\n",
      ")\tSSC,*,*,*,*,*,*,*\n",
      "(\tSSO,*,*,*,*,*,*,*\n",
      "정품\tNNG,*,T,정품,*,*,*,*\n",
      ")\tSSC,*,*,*,*,*,*,*\n",
      "EOS\n",
      "\n"
     ]
    }
   ],
   "source": [
    "#-*- coding: utf-8 -*-\n",
    "import MeCab\n",
    "import codecs\n",
    "import sys\n",
    "sentence = \"인텔 인텔 코어i7-4세대 4770k (하스웰) (정품)\"\n",
    "t = MeCab.Tagger ('-d /usr/local/lib/mecab/dic/mecab-ko-dic')\n",
    "m = t.parse(sentence)\n",
    "print m\n",
    "\n"
   ]
  },
  {
   "cell_type": "code",
   "execution_count": 49,
   "metadata": {
    "collapsed": false
   },
   "outputs": [
    {
     "data": {
      "text/plain": [
       "[u'world', u'apple']"
      ]
     },
     "execution_count": 49,
     "metadata": {},
     "output_type": "execute_result"
    }
   ],
   "source": [
    "\n",
    "import regex\n",
    "from nltk import word_tokenize, pos_tag, regexp_tokenize\n",
    "sentence = u\"I world you apple 무궁화 꽃이 피었습니다\"\n",
    "\n",
    "tags_en = nltk.pos_tag(regex.findall(ur'[a-zA-Z]+', sentence))\n",
    "\n",
    "nouns = [token for token, pos in tags_en if pos.startswith('N')]\n",
    "nouns"
   ]
  },
  {
   "cell_type": "code",
   "execution_count": 17,
   "metadata": {
    "collapsed": false
   },
   "outputs": [
    {
     "data": {
      "text/plain": [
       "[1, 2]"
      ]
     },
     "execution_count": 17,
     "metadata": {},
     "output_type": "execute_result"
    }
   ],
   "source": [
    "a=[1]\n",
    "b=[2]\n",
    "a.extend(b)\n",
    "a"
   ]
  }
 ],
 "metadata": {
  "kernelspec": {
   "display_name": "Python 2",
   "language": "python",
   "name": "python2"
  },
  "language_info": {
   "codemirror_mode": {
    "name": "ipython",
    "version": 2
   },
   "file_extension": ".py",
   "mimetype": "text/x-python",
   "name": "python",
   "nbconvert_exporter": "python",
   "pygments_lexer": "ipython2",
   "version": "2.7.6"
  }
 },
 "nbformat": 4,
 "nbformat_minor": 1
}
